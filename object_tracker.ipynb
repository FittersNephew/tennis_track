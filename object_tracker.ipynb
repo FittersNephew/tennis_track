{
 "cells": [
  {
   "cell_type": "code",
   "execution_count": 2,
   "metadata": {
    "collapsed": false
   },
   "outputs": [
    {
     "name": "stdout",
     "output_type": "stream",
     "text": [
      "32\n",
      "32\n",
      "32\n",
      "32\n",
      "32\n",
      "32\n",
      "32\n",
      "32\n",
      "32\n",
      "32\n",
      "32\n",
      "32\n",
      "32\n",
      "27\n"
     ]
    }
   ],
   "source": [
    "import numpy as np\n",
    "import cv2\n",
    "from matplotlib import pyplot as plt\n",
    "\n",
    "cap = cv2.VideoCapture(\"D:\\\\lastLogs\\\\TVideo\\\\20160920_071557-2.mp4\")\n",
    "cap.set(cv2.CAP_PROP_POS_MSEC,300000)\n",
    "fgbg = cv2.createBackgroundSubtractorMOG2()\n",
    "perFrame=False\n",
    "\n",
    "while(1):\n",
    "    ret, frame = cap.read()\n",
    "    black = np.zeros((int(cap.get(cv2.CAP_PROP_FRAME_HEIGHT)),int(cap.get(cv2.CAP_PROP_FRAME_WIDTH)),3), np.uint8)\n",
    "    fgmask = fgbg.apply(frame)\n",
    "    edges = cv2.Canny(frame,150,200)\n",
    "    \n",
    "    ret,thresh = cv2.threshold(fgmask,127,255,cv2.THRESH_BINARY)\n",
    "    im2, contours, hierarchy = cv2.findContours(thresh,cv2.RETR_TREE,cv2.CHAIN_APPROX_SIMPLE)\n",
    "    \n",
    "    #cv2.putText(frame,str(perFrame), (100,100), cv2.FONT_HERSHEY_SIMPLEX, 2, 255)\n",
    "    if(len(contours)<1e3):\n",
    "        resCnt=[]\n",
    "        for elem in contours:\n",
    "                area=cv2.contourArea(elem)\n",
    "                if(area>15):\n",
    "                    x,y,w,h = cv2.boundingRect(elem)\n",
    "                    rect=frame[y:y+h, x:x+w]\n",
    "                    black[y:y+h, x:x+w]=rect\n",
    "                    (x,y),radius = cv2.minEnclosingCircle(elem)\n",
    "                    center = (int(x),int(y))\n",
    "                    radius = int(radius)\n",
    "                    #cv2.circle(black,center,radius,(255,255,255),-1)\n",
    "                    cv2.circle(frame,center,radius,(255,255,255),2)\n",
    "                    \n",
    "                    #cv2.drawContours(img,[box],0,(0,0,255),2)\n",
    "                    #cv2.drawContours(black,[box],0,(0,0,255),2)        \n",
    "    \n",
    "    #cv2.drawContours(frame, resCnt, -1, (0,255,0), 3)\n",
    "    \n",
    "    cv2.imshow('asdasd',frame)\n",
    "    cv2.imshow('frame',black)\n",
    "    delay = 30\n",
    "    k = cv2.waitKey(delay)\n",
    "    if(k!=-1):\n",
    "        print (k)\n",
    "    if k == 27:\n",
    "        break\n",
    "        \n",
    "    if k == 32 or perFrame==True:\n",
    "        k = cv2.waitKey(0)\n",
    "        if(k==32):\n",
    "            perFrame=False\n",
    "            continue\n",
    "        if(k == 2555904):\n",
    "            perFrame=True\n",
    "            continue\n",
    "        \n",
    "        \n",
    "    \n",
    "\n",
    "cap.release()\n",
    "cv2.destroyAllWindows()"
   ]
  },
  {
   "cell_type": "code",
   "execution_count": 5,
   "metadata": {
    "collapsed": false
   },
   "outputs": [
    {
     "name": "stdout",
     "output_type": "stream",
     "text": [
      "3.1.0\n"
     ]
    }
   ],
   "source": [
    "import cv2\n",
    "print (cv2.__version__)"
   ]
  }
 ],
 "metadata": {
  "anaconda-cloud": {},
  "kernelspec": {
   "display_name": "Python 2",
   "language": "python",
   "name": "python2"
  },
  "language_info": {
   "codemirror_mode": {
    "name": "ipython",
    "version": 2
   },
   "file_extension": ".py",
   "mimetype": "text/x-python",
   "name": "python",
   "nbconvert_exporter": "python",
   "pygments_lexer": "ipython2",
   "version": "2.7.12"
  }
 },
 "nbformat": 4,
 "nbformat_minor": 1
}
